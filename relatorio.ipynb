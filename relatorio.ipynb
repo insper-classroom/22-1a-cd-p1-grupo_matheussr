{
 "cells": [
  {
   "cell_type": "markdown",
   "metadata": {},
   "source": [
    "# Projeto 1 - Ciência dos Dados"
   ]
  },
  {
   "cell_type": "markdown",
   "metadata": {},
   "source": [
    "Nome: Matheus Silva Rodrigues\n",
    "\n",
    "Nome: _____"
   ]
  },
  {
   "cell_type": "markdown",
   "metadata": {},
   "source": [
    "Atenção: Serão permitidos grupos de três pessoas, mas com uma rubrica mais exigente. Grupos deste tamanho precisarão fazer um questionário de avaliação de trabalho em equipe"
   ]
  },
  {
   "cell_type": "markdown",
   "metadata": {},
   "source": [
    "___\n",
    "Carregando algumas bibliotecas:"
   ]
  },
  {
   "cell_type": "code",
   "execution_count": 1,
   "metadata": {},
   "outputs": [],
   "source": [
    "%matplotlib inline\n",
    "import pandas as pd\n",
    "import matplotlib.pyplot as plt\n",
    "import numpy as np\n",
    "import os\n",
    "import re "
   ]
  },
  {
   "cell_type": "code",
   "execution_count": 2,
   "metadata": {
    "scrolled": false
   },
   "outputs": [
    {
     "name": "stdout",
     "output_type": "stream",
     "text": [
      "Esperamos trabalhar no diretório\n",
      "C:\\Users\\theus\\Downloads\\PROJETO CDADOS\\22-1a-cd-p1-grupo_matheussr\n"
     ]
    }
   ],
   "source": [
    "print('Esperamos trabalhar no diretório')\n",
    "print(os.getcwd())"
   ]
  },
  {
   "cell_type": "markdown",
   "metadata": {},
   "source": [
    "Carregando a base de dados com as notícias classificadas manualmente:"
   ]
  },
  {
   "cell_type": "code",
   "execution_count": 3,
   "metadata": {},
   "outputs": [],
   "source": [
    "filename = 'dados.xlsx'"
   ]
  },
  {
   "cell_type": "code",
   "execution_count": 4,
   "metadata": {},
   "outputs": [
    {
     "data": {
      "text/html": [
       "<div>\n",
       "<style scoped>\n",
       "    .dataframe tbody tr th:only-of-type {\n",
       "        vertical-align: middle;\n",
       "    }\n",
       "\n",
       "    .dataframe tbody tr th {\n",
       "        vertical-align: top;\n",
       "    }\n",
       "\n",
       "    .dataframe thead th {\n",
       "        text-align: right;\n",
       "    }\n",
       "</style>\n",
       "<table border=\"1\" class=\"dataframe\">\n",
       "  <thead>\n",
       "    <tr style=\"text-align: right;\">\n",
       "      <th></th>\n",
       "      <th>Categoria</th>\n",
       "      <th>Titulo</th>\n",
       "      <th>PrimeiroParag</th>\n",
       "      <th>Data</th>\n",
       "      <th>Pagina</th>\n",
       "      <th>Target</th>\n",
       "    </tr>\n",
       "  </thead>\n",
       "  <tbody>\n",
       "    <tr>\n",
       "      <th>0</th>\n",
       "      <td>Empresas</td>\n",
       "      <td>Fintech argentina Ualá acelera expansão com es...</td>\n",
       "      <td>A startup argentina de pagamentos móveis Ualá,...</td>\n",
       "      <td>29/09/2020 - 15:17</td>\n",
       "      <td>36</td>\n",
       "      <td>1</td>\n",
       "    </tr>\n",
       "    <tr>\n",
       "      <th>1</th>\n",
       "      <td>Comprar ou vender?</td>\n",
       "      <td>Méliuz: 2021 começa forte e ação pode subir 35...</td>\n",
       "      <td>Os analistas do BTG Pactual (BPAC11) ficaram b...</td>\n",
       "      <td>07/04/2021 - 16:58</td>\n",
       "      <td>31</td>\n",
       "      <td>0</td>\n",
       "    </tr>\n",
       "    <tr>\n",
       "      <th>2</th>\n",
       "      <td>Jornais</td>\n",
       "      <td>Confira as principais notícias dos jornais des...</td>\n",
       "      <td>Veja as principais manchetes desta quinta-feir...</td>\n",
       "      <td>26/08/2021 - 7:00</td>\n",
       "      <td>24</td>\n",
       "      <td>1</td>\n",
       "    </tr>\n",
       "    <tr>\n",
       "      <th>3</th>\n",
       "      <td>1 Bilhão Educação Financeira</td>\n",
       "      <td>É melhor investir no RDB ou na Nuconta?</td>\n",
       "      <td>Recentemente a fintech Nubank, que conta com ...</td>\n",
       "      <td>07/08/2019 - 14:40</td>\n",
       "      <td>47</td>\n",
       "      <td>2</td>\n",
       "    </tr>\n",
       "    <tr>\n",
       "      <th>4</th>\n",
       "      <td>Empresas</td>\n",
       "      <td>Plataforma VTEX busca avaliação de US$ 3 bilhõ...</td>\n",
       "      <td>A VTEX, provedora de plataforma de comércio di...</td>\n",
       "      <td>12/07/2021 - 11:21</td>\n",
       "      <td>27</td>\n",
       "      <td>1</td>\n",
       "    </tr>\n",
       "  </tbody>\n",
       "</table>\n",
       "</div>"
      ],
      "text/plain": [
       "                       Categoria  \\\n",
       "0                      Empresas    \n",
       "1            Comprar ou vender?    \n",
       "2                       Jornais    \n",
       "3  1 Bilhão Educação Financeira    \n",
       "4                      Empresas    \n",
       "\n",
       "                                              Titulo  \\\n",
       "0  Fintech argentina Ualá acelera expansão com es...   \n",
       "1  Méliuz: 2021 começa forte e ação pode subir 35...   \n",
       "2  Confira as principais notícias dos jornais des...   \n",
       "3            É melhor investir no RDB ou na Nuconta?   \n",
       "4  Plataforma VTEX busca avaliação de US$ 3 bilhõ...   \n",
       "\n",
       "                                       PrimeiroParag                Data  \\\n",
       "0  A startup argentina de pagamentos móveis Ualá,...  29/09/2020 - 15:17   \n",
       "1  Os analistas do BTG Pactual (BPAC11) ficaram b...  07/04/2021 - 16:58   \n",
       "2  Veja as principais manchetes desta quinta-feir...   26/08/2021 - 7:00   \n",
       "3   Recentemente a fintech Nubank, que conta com ...  07/08/2019 - 14:40   \n",
       "4  A VTEX, provedora de plataforma de comércio di...  12/07/2021 - 11:21   \n",
       "\n",
       "   Pagina  Target  \n",
       "0      36       1  \n",
       "1      31       0  \n",
       "2      24       1  \n",
       "3      47       2  \n",
       "4      27       1  "
      ]
     },
     "execution_count": 4,
     "metadata": {},
     "output_type": "execute_result"
    }
   ],
   "source": [
    "train = pd.read_excel(filename, sheet_name = 'Treinamento')\n",
    "train.head(5)"
   ]
  },
  {
   "cell_type": "code",
   "execution_count": 5,
   "metadata": {},
   "outputs": [
    {
     "data": {
      "text/html": [
       "<div>\n",
       "<style scoped>\n",
       "    .dataframe tbody tr th:only-of-type {\n",
       "        vertical-align: middle;\n",
       "    }\n",
       "\n",
       "    .dataframe tbody tr th {\n",
       "        vertical-align: top;\n",
       "    }\n",
       "\n",
       "    .dataframe thead th {\n",
       "        text-align: right;\n",
       "    }\n",
       "</style>\n",
       "<table border=\"1\" class=\"dataframe\">\n",
       "  <thead>\n",
       "    <tr style=\"text-align: right;\">\n",
       "      <th></th>\n",
       "      <th>Categoria</th>\n",
       "      <th>Titulo</th>\n",
       "      <th>PrimeiroParag</th>\n",
       "      <th>Data</th>\n",
       "      <th>Pagina</th>\n",
       "      <th>Target</th>\n",
       "    </tr>\n",
       "  </thead>\n",
       "  <tbody>\n",
       "    <tr>\n",
       "      <th>0</th>\n",
       "      <td>Empresas</td>\n",
       "      <td>Monashees busca US$ 700 milhões para investir ...</td>\n",
       "      <td>A gestora de venture capital Monashees está le...</td>\n",
       "      <td>18/10/2021 - 9:38</td>\n",
       "      <td>20</td>\n",
       "      <td>1</td>\n",
       "    </tr>\n",
       "    <tr>\n",
       "      <th>1</th>\n",
       "      <td>Comprar ou vender?</td>\n",
       "      <td>Itaú BBA vê ação do Nubank caindo mais 20%; pr...</td>\n",
       "      <td>O Nubank (NU), que estreou na Bolsa de Nova Yo...</td>\n",
       "      <td>04/01/2022 - 18:04</td>\n",
       "      <td>9</td>\n",
       "      <td>0</td>\n",
       "    </tr>\n",
       "    <tr>\n",
       "      <th>2</th>\n",
       "      <td>Comprar ou vender?</td>\n",
       "      <td>Ação do Bradesco e do Itaú estão baratas e são...</td>\n",
       "      <td>As ações do bancos oferecem uma bela oportunid...</td>\n",
       "      <td>16/12/2021 - 19:44</td>\n",
       "      <td>10</td>\n",
       "      <td>1</td>\n",
       "    </tr>\n",
       "    <tr>\n",
       "      <th>3</th>\n",
       "      <td>Carreira</td>\n",
       "      <td>Nubank planeja contratar duas mil pessoas negr...</td>\n",
       "      <td>O Nubank, maior banco digital independente do ...</td>\n",
       "      <td>14/02/2021 - 16:00</td>\n",
       "      <td>33</td>\n",
       "      <td>2</td>\n",
       "    </tr>\n",
       "    <tr>\n",
       "      <th>4</th>\n",
       "      <td>Bancos</td>\n",
       "      <td>Nubank irá lançar novo serviço de empréstimo p...</td>\n",
       "      <td>A Nubank, empresa voltada para serviços financ...</td>\n",
       "      <td>08/02/2019 - 17:06</td>\n",
       "      <td>50</td>\n",
       "      <td>2</td>\n",
       "    </tr>\n",
       "  </tbody>\n",
       "</table>\n",
       "</div>"
      ],
      "text/plain": [
       "             Categoria                                             Titulo  \\\n",
       "0            Empresas   Monashees busca US$ 700 milhões para investir ...   \n",
       "1  Comprar ou vender?   Itaú BBA vê ação do Nubank caindo mais 20%; pr...   \n",
       "2  Comprar ou vender?   Ação do Bradesco e do Itaú estão baratas e são...   \n",
       "3            Carreira   Nubank planeja contratar duas mil pessoas negr...   \n",
       "4              Bancos   Nubank irá lançar novo serviço de empréstimo p...   \n",
       "\n",
       "                                       PrimeiroParag                Data  \\\n",
       "0  A gestora de venture capital Monashees está le...   18/10/2021 - 9:38   \n",
       "1  O Nubank (NU), que estreou na Bolsa de Nova Yo...  04/01/2022 - 18:04   \n",
       "2  As ações do bancos oferecem uma bela oportunid...  16/12/2021 - 19:44   \n",
       "3  O Nubank, maior banco digital independente do ...  14/02/2021 - 16:00   \n",
       "4  A Nubank, empresa voltada para serviços financ...  08/02/2019 - 17:06   \n",
       "\n",
       "   Pagina  Target  \n",
       "0      20       1  \n",
       "1       9       0  \n",
       "2      10       1  \n",
       "3      33       2  \n",
       "4      50       2  "
      ]
     },
     "execution_count": 5,
     "metadata": {},
     "output_type": "execute_result"
    }
   ],
   "source": [
    "test = pd.read_excel(filename, sheet_name = 'Teste')\n",
    "test.head(5)"
   ]
  },
  {
   "cell_type": "markdown",
   "metadata": {},
   "source": [
    "___\n",
    "## Classificador automático\n"
   ]
  },
  {
   "cell_type": "markdown",
   "metadata": {},
   "source": [
    "Faça aqui uma descrição do seu assunto e o que considerou como relevante ou não relevante na classificação das notícias (Target).\n",
    "\n",
    "Nubank e considerei negativas (0) tudo que era ruim p empresa, neutra (1) tudo o que n influenciava a empresa e positivas (2) tudo oq é bom p empresa"
   ]
  },
  {
   "cell_type": "markdown",
   "metadata": {},
   "source": [
    "___\n",
    "### Montando um Classificador Naive-Bayes\n",
    "\n",
    "Considerando apenas as mensagens da planilha Treinamento, ensine  seu classificador."
   ]
  },
  {
   "cell_type": "code",
   "execution_count": 6,
   "metadata": {},
   "outputs": [],
   "source": [
    "def cleanup(text):\n",
    "    \"\"\"\n",
    "        Função de limpeza muito simples que troca alguns sinais básicos por espaços\n",
    "    \"\"\"\n",
    "    #import string\n",
    "    punctuation = '[!-.:?;\"]' # Note que os sinais [] são delimitadores de um conjunto.\n",
    "    pattern = re.compile(punctuation)\n",
    "    pattern2 = re.compile('\\xa0')\n",
    "    text_subbed = re.sub(pattern, '', text)\n",
    "    text_subbed = re.sub(pattern2, '', text_subbed)\n",
    "    text_final = text_subbed.lower()\n",
    "    \n",
    "    return text_final"
   ]
  },
  {
   "cell_type": "code",
   "execution_count": 7,
   "metadata": {},
   "outputs": [
    {
     "name": "stderr",
     "output_type": "stream",
     "text": [
      "<ipython-input-7-a1015756017d>:8: SettingWithCopyWarning: \n",
      "A value is trying to be set on a copy of a slice from a DataFrame\n",
      "\n",
      "See the caveats in the documentation: https://pandas.pydata.org/pandas-docs/stable/user_guide/indexing.html#returning-a-view-versus-a-copy\n",
      "  train['texto'][i] = train['Titulo'][i] + ' ' + train['PrimeiroParag'][i]\n",
      "<ipython-input-7-a1015756017d>:18: SettingWithCopyWarning: \n",
      "A value is trying to be set on a copy of a slice from a DataFrame\n",
      "\n",
      "See the caveats in the documentation: https://pandas.pydata.org/pandas-docs/stable/user_guide/indexing.html#returning-a-view-versus-a-copy\n",
      "  test['texto'][i] = test['Titulo'][i] + ' ' + test['PrimeiroParag'][i]\n"
     ]
    },
    {
     "data": {
      "text/html": [
       "<div>\n",
       "<style scoped>\n",
       "    .dataframe tbody tr th:only-of-type {\n",
       "        vertical-align: middle;\n",
       "    }\n",
       "\n",
       "    .dataframe tbody tr th {\n",
       "        vertical-align: top;\n",
       "    }\n",
       "\n",
       "    .dataframe thead th {\n",
       "        text-align: right;\n",
       "    }\n",
       "</style>\n",
       "<table border=\"1\" class=\"dataframe\">\n",
       "  <thead>\n",
       "    <tr style=\"text-align: right;\">\n",
       "      <th></th>\n",
       "      <th>Categoria</th>\n",
       "      <th>Titulo</th>\n",
       "      <th>PrimeiroParag</th>\n",
       "      <th>Data</th>\n",
       "      <th>Pagina</th>\n",
       "      <th>Target</th>\n",
       "      <th>texto</th>\n",
       "    </tr>\n",
       "  </thead>\n",
       "  <tbody>\n",
       "    <tr>\n",
       "      <th>0</th>\n",
       "      <td>Empresas</td>\n",
       "      <td>monashees busca us 700 milhões para investir e...</td>\n",
       "      <td>a gestora de venture capital monashees está le...</td>\n",
       "      <td>18/10/2021 - 9:38</td>\n",
       "      <td>20</td>\n",
       "      <td>1</td>\n",
       "      <td>monashees busca us 700 milhões para investir e...</td>\n",
       "    </tr>\n",
       "    <tr>\n",
       "      <th>1</th>\n",
       "      <td>Comprar ou vender?</td>\n",
       "      <td>itaú bba vê ação do nubank caindo mais 20 pref...</td>\n",
       "      <td>o nubank nu que estreou na bolsa de nova york ...</td>\n",
       "      <td>04/01/2022 - 18:04</td>\n",
       "      <td>9</td>\n",
       "      <td>0</td>\n",
       "      <td>itaú bba vê ação do nubank caindo mais 20 pref...</td>\n",
       "    </tr>\n",
       "    <tr>\n",
       "      <th>2</th>\n",
       "      <td>Comprar ou vender?</td>\n",
       "      <td>ação do bradesco e do itaú estão baratas e são...</td>\n",
       "      <td>as ações do bancos oferecem uma bela oportunid...</td>\n",
       "      <td>16/12/2021 - 19:44</td>\n",
       "      <td>10</td>\n",
       "      <td>1</td>\n",
       "      <td>ação do bradesco e do itaú estão baratas e são...</td>\n",
       "    </tr>\n",
       "    <tr>\n",
       "      <th>3</th>\n",
       "      <td>Carreira</td>\n",
       "      <td>nubank planeja contratar duas mil pessoas negr...</td>\n",
       "      <td>o nubank maior banco digital independente do m...</td>\n",
       "      <td>14/02/2021 - 16:00</td>\n",
       "      <td>33</td>\n",
       "      <td>2</td>\n",
       "      <td>nubank planeja contratar duas mil pessoas negr...</td>\n",
       "    </tr>\n",
       "    <tr>\n",
       "      <th>4</th>\n",
       "      <td>Bancos</td>\n",
       "      <td>nubank irá lançar novo serviço de empréstimo p...</td>\n",
       "      <td>a nubank empresa voltada para serviços finance...</td>\n",
       "      <td>08/02/2019 - 17:06</td>\n",
       "      <td>50</td>\n",
       "      <td>2</td>\n",
       "      <td>nubank irá lançar novo serviço de empréstimo p...</td>\n",
       "    </tr>\n",
       "    <tr>\n",
       "      <th>...</th>\n",
       "      <td>...</td>\n",
       "      <td>...</td>\n",
       "      <td>...</td>\n",
       "      <td>...</td>\n",
       "      <td>...</td>\n",
       "      <td>...</td>\n",
       "      <td>...</td>\n",
       "    </tr>\n",
       "    <tr>\n",
       "      <th>195</th>\n",
       "      <td>Colunista Empiricus</td>\n",
       "      <td>rodolfo amstalden fechamento de ciclo abertura...</td>\n",
       "      <td>“no contexto atual por exemplo estamos aprende...</td>\n",
       "      <td>09/12/2021 - 16:08</td>\n",
       "      <td>12</td>\n",
       "      <td>1</td>\n",
       "      <td>rodolfo amstalden fechamento de ciclo abertura...</td>\n",
       "    </tr>\n",
       "    <tr>\n",
       "      <th>196</th>\n",
       "      <td>Mercados</td>\n",
       "      <td>méliuz recupera parte das perdas do pósindepen...</td>\n",
       "      <td>as ações da méliuz cash3 sobem 36 na sessão de...</td>\n",
       "      <td>09/09/2021 - 12:39</td>\n",
       "      <td>23</td>\n",
       "      <td>1</td>\n",
       "      <td>méliuz recupera parte das perdas do pósindepen...</td>\n",
       "    </tr>\n",
       "    <tr>\n",
       "      <th>197</th>\n",
       "      <td>Bancos</td>\n",
       "      <td>nubank levanta us 400 milhões e atinge avaliaç...</td>\n",
       "      <td>o nubank levantou 400 milhões de dólares em su...</td>\n",
       "      <td>28/01/2021 - 10:50</td>\n",
       "      <td>33</td>\n",
       "      <td>2</td>\n",
       "      <td>nubank levanta us 400 milhões e atinge avaliaç...</td>\n",
       "    </tr>\n",
       "    <tr>\n",
       "      <th>198</th>\n",
       "      <td>Startup</td>\n",
       "      <td>quem são as startups brasileiras candidatas a ...</td>\n",
       "      <td>primeiro foram as fintechs e os aplicativos de...</td>\n",
       "      <td>26/01/2020 - 10:31</td>\n",
       "      <td>40</td>\n",
       "      <td>1</td>\n",
       "      <td>quem são as startups brasileiras candidatas a ...</td>\n",
       "    </tr>\n",
       "    <tr>\n",
       "      <th>199</th>\n",
       "      <td>Mercados</td>\n",
       "      <td>com exterior negativo ibovespa futuro começa a...</td>\n",
       "      <td>por investingcom</td>\n",
       "      <td>13/05/2019 - 9:15</td>\n",
       "      <td>49</td>\n",
       "      <td>0</td>\n",
       "      <td>com exterior negativo ibovespa futuro começa a...</td>\n",
       "    </tr>\n",
       "  </tbody>\n",
       "</table>\n",
       "<p>200 rows × 7 columns</p>\n",
       "</div>"
      ],
      "text/plain": [
       "                Categoria                                             Titulo  \\\n",
       "0               Empresas   monashees busca us 700 milhões para investir e...   \n",
       "1     Comprar ou vender?   itaú bba vê ação do nubank caindo mais 20 pref...   \n",
       "2     Comprar ou vender?   ação do bradesco e do itaú estão baratas e são...   \n",
       "3               Carreira   nubank planeja contratar duas mil pessoas negr...   \n",
       "4                 Bancos   nubank irá lançar novo serviço de empréstimo p...   \n",
       "..                    ...                                                ...   \n",
       "195  Colunista Empiricus   rodolfo amstalden fechamento de ciclo abertura...   \n",
       "196             Mercados   méliuz recupera parte das perdas do pósindepen...   \n",
       "197               Bancos   nubank levanta us 400 milhões e atinge avaliaç...   \n",
       "198              Startup   quem são as startups brasileiras candidatas a ...   \n",
       "199             Mercados   com exterior negativo ibovespa futuro começa a...   \n",
       "\n",
       "                                         PrimeiroParag                Data  \\\n",
       "0    a gestora de venture capital monashees está le...   18/10/2021 - 9:38   \n",
       "1    o nubank nu que estreou na bolsa de nova york ...  04/01/2022 - 18:04   \n",
       "2    as ações do bancos oferecem uma bela oportunid...  16/12/2021 - 19:44   \n",
       "3    o nubank maior banco digital independente do m...  14/02/2021 - 16:00   \n",
       "4    a nubank empresa voltada para serviços finance...  08/02/2019 - 17:06   \n",
       "..                                                 ...                 ...   \n",
       "195  “no contexto atual por exemplo estamos aprende...  09/12/2021 - 16:08   \n",
       "196  as ações da méliuz cash3 sobem 36 na sessão de...  09/09/2021 - 12:39   \n",
       "197  o nubank levantou 400 milhões de dólares em su...  28/01/2021 - 10:50   \n",
       "198  primeiro foram as fintechs e os aplicativos de...  26/01/2020 - 10:31   \n",
       "199                                   por investingcom   13/05/2019 - 9:15   \n",
       "\n",
       "     Pagina  Target                                              texto  \n",
       "0        20       1  monashees busca us 700 milhões para investir e...  \n",
       "1         9       0  itaú bba vê ação do nubank caindo mais 20 pref...  \n",
       "2        10       1  ação do bradesco e do itaú estão baratas e são...  \n",
       "3        33       2  nubank planeja contratar duas mil pessoas negr...  \n",
       "4        50       2  nubank irá lançar novo serviço de empréstimo p...  \n",
       "..      ...     ...                                                ...  \n",
       "195      12       1  rodolfo amstalden fechamento de ciclo abertura...  \n",
       "196      23       1  méliuz recupera parte das perdas do pósindepen...  \n",
       "197      33       2  nubank levanta us 400 milhões e atinge avaliaç...  \n",
       "198      40       1  quem são as startups brasileiras candidatas a ...  \n",
       "199      49       0  com exterior negativo ibovespa futuro começa a...  \n",
       "\n",
       "[200 rows x 7 columns]"
      ]
     },
     "execution_count": 7,
     "metadata": {},
     "output_type": "execute_result"
    }
   ],
   "source": [
    "train.Titulo = train.Titulo.astype('str')\n",
    "train.PrimeiroParag = train.PrimeiroParag.astype('str')\n",
    "train.Titulo = train.Titulo.apply(cleanup)\n",
    "train.PrimeiroParag = train.PrimeiroParag.apply(cleanup)\n",
    "\n",
    "train['texto']= None\n",
    "for i in range(0,300):\n",
    "    train['texto'][i] = train['Titulo'][i] + ' ' + train['PrimeiroParag'][i]\n",
    "train\n",
    "\n",
    "test.Titulo = test.Titulo.astype('str')\n",
    "test.PrimeiroParag = test.PrimeiroParag.astype('str')\n",
    "test.Titulo = test.Titulo.apply(cleanup)\n",
    "test.PrimeiroParag = test.PrimeiroParag.apply(cleanup)\n",
    "\n",
    "test['texto']= None\n",
    "for i in range(0,200):\n",
    "    test['texto'][i] = test['Titulo'][i] + ' ' + test['PrimeiroParag'][i]\n",
    "test"
   ]
  },
  {
   "cell_type": "code",
   "execution_count": 8,
   "metadata": {},
   "outputs": [
    {
     "name": "stdout",
     "output_type": "stream",
     "text": [
      " Prob 0: 0.20845\n",
      " Prob 1: 0.40235\n",
      " Prob 2: 0.38919\n",
      "200\n",
      "200\n",
      "200\n"
     ]
    }
   ],
   "source": [
    "prob_treino = train.Target.value_counts(normalize=True)\n",
    "prob_treino\n",
    "\n",
    "zero = ''\n",
    "um = ''\n",
    "dois = ''\n",
    "\n",
    "lista_zero= train.loc[(train.Target==0),'texto']\n",
    "lista_um = train.loc[(train.Target==1),'texto']\n",
    "lista_dois = train.loc[(train.Target==2),'texto']\n",
    "\n",
    "for z in lista_zero:\n",
    "    zero += \" \" + z\n",
    "\n",
    "for u in lista_um:\n",
    "    um += \" \" + u\n",
    "    \n",
    "for d in lista_dois:\n",
    "    dois += \" \" + d\n",
    "dois\n",
    "\n",
    "todas_palavras_zero = zero.split()\n",
    "todas_palavras_um = um.split()\n",
    "todas_palavras_dois = dois.split()\n",
    "\n",
    "serie_zero = pd.Series(todas_palavras_zero)\n",
    "serie_um = pd.Series(todas_palavras_um)\n",
    "serie_dois = pd.Series(todas_palavras_dois)\n",
    "serie_zero.head(10)\n",
    "\n",
    "tabela_zero = serie_zero.value_counts()\n",
    "tabela_um = serie_um.value_counts()\n",
    "tabela_dois = serie_dois.value_counts()\n",
    "\n",
    "total = zero + um + dois\n",
    "todas_palavras_portugues = total.split()\n",
    "serie_portugues = pd.Series(todas_palavras_portugues)\n",
    "tabela_portugues = serie_portugues.value_counts()\n",
    "\n",
    "#tabela_portugues_relativa = serie_portugues.value_counts(True)\n",
    "#tabela_portugues_relativa\n",
    "\n",
    "prob_zero = len(serie_zero) / len(serie_portugues)\n",
    "prob_um = len(serie_um) / len(serie_portugues)\n",
    "prob_dois = len(serie_dois) / len(serie_portugues)\n",
    "print(f' Prob 0: {prob_zero:0.5g}')\n",
    "print(f' Prob 1: {prob_um:0.5g}')\n",
    "print(f' Prob 2: {prob_dois:0.5g}')\n",
    "\n",
    "\n",
    "prob_neg = []\n",
    "prob_pos = []\n",
    "prob_neu = []\n",
    "\n",
    "for texto in test.texto:\n",
    "    probFraseDado0 = 1\n",
    "    probFraseDado1 = 1\n",
    "    probFraseDado2 = 1\n",
    "    \n",
    "    for palavra in texto.split():\n",
    "        \n",
    "        if palavra in tabela_zero:\n",
    "            probFraseDado0 *= (tabela_zero[palavra] + 1)/(tabela_zero.sum() + len(tabela_zero))\n",
    "        else:\n",
    "            probFraseDado0 *= (0 + 1)/(tabela_zero.sum() + len(tabela_zero))\n",
    "            \n",
    "        if palavra in tabela_um:\n",
    "            probFraseDado1 *= (tabela_um[palavra] + 1)/(tabela_um.sum() + len(tabela_um))\n",
    "        else:\n",
    "            probFraseDado1 *= (0 + 1)/(tabela_um.sum() + len(tabela_um))\n",
    "            \n",
    "        if palavra in tabela_dois:\n",
    "            probFraseDado2 *= (tabela_dois[palavra] + 1)/(tabela_dois.sum() + len(tabela_dois))\n",
    "        else:\n",
    "            probFraseDado2 *= (0 + 1)/(tabela_dois.sum() + len(tabela_dois))\n",
    "    prob_neg.append(probFraseDado0)\n",
    "    prob_neu.append(probFraseDado1)\n",
    "    prob_pos.append(probFraseDado2)\n",
    "    \n",
    "print(len(prob_neg))\n",
    "print(len(prob_neu))\n",
    "print(len(prob_pos))"
   ]
  },
  {
   "cell_type": "code",
   "execution_count": 9,
   "metadata": {},
   "outputs": [
    {
     "name": "stdout",
     "output_type": "stream",
     "text": [
      "200\n"
     ]
    }
   ],
   "source": [
    "prob_zero_texto = []\n",
    "for probFraseDado0 in prob_neg: \n",
    "    probzero_texto = probFraseDado0*prob_zero\n",
    "    prob_zero_texto.append(probzero_texto)\n",
    "    \n",
    "print(len(prob_zero_texto))"
   ]
  },
  {
   "cell_type": "code",
   "execution_count": 10,
   "metadata": {},
   "outputs": [
    {
     "name": "stdout",
     "output_type": "stream",
     "text": [
      "200\n"
     ]
    }
   ],
   "source": [
    "prob_um_texto = []\n",
    "for probFraseDado1 in prob_neu: \n",
    "    probum_texto = probFraseDado1*prob_um\n",
    "    prob_um_texto.append(probum_texto)\n",
    "    \n",
    "print(len(prob_um_texto))"
   ]
  },
  {
   "cell_type": "code",
   "execution_count": 11,
   "metadata": {},
   "outputs": [
    {
     "name": "stdout",
     "output_type": "stream",
     "text": [
      "200\n"
     ]
    }
   ],
   "source": [
    "prob_dois_texto = []\n",
    "for probFraseDado2 in prob_pos: \n",
    "    probdois_texto = probFraseDado2*prob_dois\n",
    "    prob_dois_texto.append(probdois_texto)\n",
    "    \n",
    "print(len(prob_dois_texto))"
   ]
  },
  {
   "cell_type": "code",
   "execution_count": 21,
   "metadata": {},
   "outputs": [
    {
     "data": {
      "text/html": [
       "<div>\n",
       "<style scoped>\n",
       "    .dataframe tbody tr th:only-of-type {\n",
       "        vertical-align: middle;\n",
       "    }\n",
       "\n",
       "    .dataframe tbody tr th {\n",
       "        vertical-align: top;\n",
       "    }\n",
       "\n",
       "    .dataframe thead th {\n",
       "        text-align: right;\n",
       "    }\n",
       "</style>\n",
       "<table border=\"1\" class=\"dataframe\">\n",
       "  <thead>\n",
       "    <tr style=\"text-align: right;\">\n",
       "      <th></th>\n",
       "      <th>Categoria</th>\n",
       "      <th>Titulo</th>\n",
       "      <th>PrimeiroParag</th>\n",
       "      <th>Data</th>\n",
       "      <th>Pagina</th>\n",
       "      <th>Target</th>\n",
       "      <th>texto</th>\n",
       "      <th>Teste</th>\n",
       "    </tr>\n",
       "  </thead>\n",
       "  <tbody>\n",
       "    <tr>\n",
       "      <th>0</th>\n",
       "      <td>Empresas</td>\n",
       "      <td>monashees busca us 700 milhões para investir e...</td>\n",
       "      <td>a gestora de venture capital monashees está le...</td>\n",
       "      <td>18/10/2021 - 9:38</td>\n",
       "      <td>20</td>\n",
       "      <td>1</td>\n",
       "      <td>monashees busca us 700 milhões para investir e...</td>\n",
       "      <td>2.0</td>\n",
       "    </tr>\n",
       "    <tr>\n",
       "      <th>1</th>\n",
       "      <td>Comprar ou vender?</td>\n",
       "      <td>itaú bba vê ação do nubank caindo mais 20 pref...</td>\n",
       "      <td>o nubank nu que estreou na bolsa de nova york ...</td>\n",
       "      <td>04/01/2022 - 18:04</td>\n",
       "      <td>9</td>\n",
       "      <td>0</td>\n",
       "      <td>itaú bba vê ação do nubank caindo mais 20 pref...</td>\n",
       "      <td>0.0</td>\n",
       "    </tr>\n",
       "    <tr>\n",
       "      <th>2</th>\n",
       "      <td>Comprar ou vender?</td>\n",
       "      <td>ação do bradesco e do itaú estão baratas e são...</td>\n",
       "      <td>as ações do bancos oferecem uma bela oportunid...</td>\n",
       "      <td>16/12/2021 - 19:44</td>\n",
       "      <td>10</td>\n",
       "      <td>1</td>\n",
       "      <td>ação do bradesco e do itaú estão baratas e são...</td>\n",
       "      <td>0.0</td>\n",
       "    </tr>\n",
       "    <tr>\n",
       "      <th>3</th>\n",
       "      <td>Carreira</td>\n",
       "      <td>nubank planeja contratar duas mil pessoas negr...</td>\n",
       "      <td>o nubank maior banco digital independente do m...</td>\n",
       "      <td>14/02/2021 - 16:00</td>\n",
       "      <td>33</td>\n",
       "      <td>2</td>\n",
       "      <td>nubank planeja contratar duas mil pessoas negr...</td>\n",
       "      <td>0.0</td>\n",
       "    </tr>\n",
       "    <tr>\n",
       "      <th>4</th>\n",
       "      <td>Bancos</td>\n",
       "      <td>nubank irá lançar novo serviço de empréstimo p...</td>\n",
       "      <td>a nubank empresa voltada para serviços finance...</td>\n",
       "      <td>08/02/2019 - 17:06</td>\n",
       "      <td>50</td>\n",
       "      <td>2</td>\n",
       "      <td>nubank irá lançar novo serviço de empréstimo p...</td>\n",
       "      <td>0.0</td>\n",
       "    </tr>\n",
       "    <tr>\n",
       "      <th>...</th>\n",
       "      <td>...</td>\n",
       "      <td>...</td>\n",
       "      <td>...</td>\n",
       "      <td>...</td>\n",
       "      <td>...</td>\n",
       "      <td>...</td>\n",
       "      <td>...</td>\n",
       "      <td>...</td>\n",
       "    </tr>\n",
       "    <tr>\n",
       "      <th>195</th>\n",
       "      <td>Colunista Empiricus</td>\n",
       "      <td>rodolfo amstalden fechamento de ciclo abertura...</td>\n",
       "      <td>“no contexto atual por exemplo estamos aprende...</td>\n",
       "      <td>09/12/2021 - 16:08</td>\n",
       "      <td>12</td>\n",
       "      <td>1</td>\n",
       "      <td>rodolfo amstalden fechamento de ciclo abertura...</td>\n",
       "      <td>0.0</td>\n",
       "    </tr>\n",
       "    <tr>\n",
       "      <th>196</th>\n",
       "      <td>Mercados</td>\n",
       "      <td>méliuz recupera parte das perdas do pósindepen...</td>\n",
       "      <td>as ações da méliuz cash3 sobem 36 na sessão de...</td>\n",
       "      <td>09/09/2021 - 12:39</td>\n",
       "      <td>23</td>\n",
       "      <td>1</td>\n",
       "      <td>méliuz recupera parte das perdas do pósindepen...</td>\n",
       "      <td>0.0</td>\n",
       "    </tr>\n",
       "    <tr>\n",
       "      <th>197</th>\n",
       "      <td>Bancos</td>\n",
       "      <td>nubank levanta us 400 milhões e atinge avaliaç...</td>\n",
       "      <td>o nubank levantou 400 milhões de dólares em su...</td>\n",
       "      <td>28/01/2021 - 10:50</td>\n",
       "      <td>33</td>\n",
       "      <td>2</td>\n",
       "      <td>nubank levanta us 400 milhões e atinge avaliaç...</td>\n",
       "      <td>2.0</td>\n",
       "    </tr>\n",
       "    <tr>\n",
       "      <th>198</th>\n",
       "      <td>Startup</td>\n",
       "      <td>quem são as startups brasileiras candidatas a ...</td>\n",
       "      <td>primeiro foram as fintechs e os aplicativos de...</td>\n",
       "      <td>26/01/2020 - 10:31</td>\n",
       "      <td>40</td>\n",
       "      <td>1</td>\n",
       "      <td>quem são as startups brasileiras candidatas a ...</td>\n",
       "      <td>2.0</td>\n",
       "    </tr>\n",
       "    <tr>\n",
       "      <th>199</th>\n",
       "      <td>Mercados</td>\n",
       "      <td>com exterior negativo ibovespa futuro começa a...</td>\n",
       "      <td>por investingcom</td>\n",
       "      <td>13/05/2019 - 9:15</td>\n",
       "      <td>49</td>\n",
       "      <td>0</td>\n",
       "      <td>com exterior negativo ibovespa futuro começa a...</td>\n",
       "      <td>0.0</td>\n",
       "    </tr>\n",
       "  </tbody>\n",
       "</table>\n",
       "<p>200 rows × 8 columns</p>\n",
       "</div>"
      ],
      "text/plain": [
       "                Categoria                                             Titulo  \\\n",
       "0               Empresas   monashees busca us 700 milhões para investir e...   \n",
       "1     Comprar ou vender?   itaú bba vê ação do nubank caindo mais 20 pref...   \n",
       "2     Comprar ou vender?   ação do bradesco e do itaú estão baratas e são...   \n",
       "3               Carreira   nubank planeja contratar duas mil pessoas negr...   \n",
       "4                 Bancos   nubank irá lançar novo serviço de empréstimo p...   \n",
       "..                    ...                                                ...   \n",
       "195  Colunista Empiricus   rodolfo amstalden fechamento de ciclo abertura...   \n",
       "196             Mercados   méliuz recupera parte das perdas do pósindepen...   \n",
       "197               Bancos   nubank levanta us 400 milhões e atinge avaliaç...   \n",
       "198              Startup   quem são as startups brasileiras candidatas a ...   \n",
       "199             Mercados   com exterior negativo ibovespa futuro começa a...   \n",
       "\n",
       "                                         PrimeiroParag                Data  \\\n",
       "0    a gestora de venture capital monashees está le...   18/10/2021 - 9:38   \n",
       "1    o nubank nu que estreou na bolsa de nova york ...  04/01/2022 - 18:04   \n",
       "2    as ações do bancos oferecem uma bela oportunid...  16/12/2021 - 19:44   \n",
       "3    o nubank maior banco digital independente do m...  14/02/2021 - 16:00   \n",
       "4    a nubank empresa voltada para serviços finance...  08/02/2019 - 17:06   \n",
       "..                                                 ...                 ...   \n",
       "195  “no contexto atual por exemplo estamos aprende...  09/12/2021 - 16:08   \n",
       "196  as ações da méliuz cash3 sobem 36 na sessão de...  09/09/2021 - 12:39   \n",
       "197  o nubank levantou 400 milhões de dólares em su...  28/01/2021 - 10:50   \n",
       "198  primeiro foram as fintechs e os aplicativos de...  26/01/2020 - 10:31   \n",
       "199                                   por investingcom   13/05/2019 - 9:15   \n",
       "\n",
       "     Pagina  Target                                              texto  Teste  \n",
       "0        20       1  monashees busca us 700 milhões para investir e...    2.0  \n",
       "1         9       0  itaú bba vê ação do nubank caindo mais 20 pref...    0.0  \n",
       "2        10       1  ação do bradesco e do itaú estão baratas e são...    0.0  \n",
       "3        33       2  nubank planeja contratar duas mil pessoas negr...    0.0  \n",
       "4        50       2  nubank irá lançar novo serviço de empréstimo p...    0.0  \n",
       "..      ...     ...                                                ...    ...  \n",
       "195      12       1  rodolfo amstalden fechamento de ciclo abertura...    0.0  \n",
       "196      23       1  méliuz recupera parte das perdas do pósindepen...    0.0  \n",
       "197      33       2  nubank levanta us 400 milhões e atinge avaliaç...    2.0  \n",
       "198      40       1  quem são as startups brasileiras candidatas a ...    2.0  \n",
       "199      49       0  com exterior negativo ibovespa futuro começa a...    0.0  \n",
       "\n",
       "[200 rows x 8 columns]"
      ]
     },
     "execution_count": 21,
     "metadata": {},
     "output_type": "execute_result"
    }
   ],
   "source": [
    "for i in range(len(prob_zero_texto)):\n",
    "    if prob_zero_texto[i] > prob_dois_texto[i] and prob_zero_texto[i] > prob_um_texto[i]:\n",
    "        test.loc[ i, 'Teste'] = 0\n",
    "    elif prob_dois_texto[i] > prob_zero_texto[i] and prob_dois_texto[i] > prob_um_texto[i]:\n",
    "        test.loc[ i, 'Teste'] = 2\n",
    "    else:\n",
    "        test.loc[i, 'Teste'] = 1\n",
    "test\n"
   ]
  },
  {
   "cell_type": "markdown",
   "metadata": {},
   "source": [
    "___\n",
    "### Verificando a performance do Classificador\n",
    "\n",
    "Agora você deve testar o seu classificador com a base de Testes."
   ]
  },
  {
   "cell_type": "code",
   "execution_count": 22,
   "metadata": {},
   "outputs": [
    {
     "data": {
      "text/html": [
       "<div>\n",
       "<style scoped>\n",
       "    .dataframe tbody tr th:only-of-type {\n",
       "        vertical-align: middle;\n",
       "    }\n",
       "\n",
       "    .dataframe tbody tr th {\n",
       "        vertical-align: top;\n",
       "    }\n",
       "\n",
       "    .dataframe thead th {\n",
       "        text-align: right;\n",
       "    }\n",
       "</style>\n",
       "<table border=\"1\" class=\"dataframe\">\n",
       "  <thead>\n",
       "    <tr style=\"text-align: right;\">\n",
       "      <th>Target</th>\n",
       "      <th>0</th>\n",
       "      <th>1</th>\n",
       "      <th>2</th>\n",
       "    </tr>\n",
       "    <tr>\n",
       "      <th>Teste</th>\n",
       "      <th></th>\n",
       "      <th></th>\n",
       "      <th></th>\n",
       "    </tr>\n",
       "  </thead>\n",
       "  <tbody>\n",
       "    <tr>\n",
       "      <th>0.0</th>\n",
       "      <td>0.135</td>\n",
       "      <td>0.275</td>\n",
       "      <td>0.195</td>\n",
       "    </tr>\n",
       "    <tr>\n",
       "      <th>1.0</th>\n",
       "      <td>0.000</td>\n",
       "      <td>0.160</td>\n",
       "      <td>0.020</td>\n",
       "    </tr>\n",
       "    <tr>\n",
       "      <th>2.0</th>\n",
       "      <td>0.025</td>\n",
       "      <td>0.040</td>\n",
       "      <td>0.150</td>\n",
       "    </tr>\n",
       "  </tbody>\n",
       "</table>\n",
       "</div>"
      ],
      "text/plain": [
       "Target      0      1      2\n",
       "Teste                      \n",
       "0.0     0.135  0.275  0.195\n",
       "1.0     0.000  0.160  0.020\n",
       "2.0     0.025  0.040  0.150"
      ]
     },
     "execution_count": 22,
     "metadata": {},
     "output_type": "execute_result"
    }
   ],
   "source": [
    "tabela_crostab = pd.crosstab(test.Teste, test.Target, normalize = True)\n",
    "tabela_crostab"
   ]
  },
  {
   "cell_type": "code",
   "execution_count": 26,
   "metadata": {},
   "outputs": [
    {
     "data": {
      "text/plain": [
       "15.0"
      ]
     },
     "execution_count": 26,
     "metadata": {},
     "output_type": "execute_result"
    }
   ],
   "source": [
    "#% verdadeiros positivos\n",
    "true_positive = tabela_crostab.iloc[2,2]*100\n",
    "true_positive"
   ]
  },
  {
   "cell_type": "code",
   "execution_count": 27,
   "metadata": {},
   "outputs": [
    {
     "data": {
      "text/plain": [
       "2.5"
      ]
     },
     "execution_count": 27,
     "metadata": {},
     "output_type": "execute_result"
    }
   ],
   "source": [
    "#% falsos positivos\n",
    "False_positive = tabela_crostab.iloc[2,0]*100\n",
    "False_positive"
   ]
  },
  {
   "cell_type": "code",
   "execution_count": 28,
   "metadata": {},
   "outputs": [
    {
     "data": {
      "text/plain": [
       "13.5"
      ]
     },
     "execution_count": 28,
     "metadata": {},
     "output_type": "execute_result"
    }
   ],
   "source": [
    "#% verdadeiros negativo\n",
    "true_negative = tabela_crostab.iloc[0,0]*100\n",
    "true_negative"
   ]
  },
  {
   "cell_type": "code",
   "execution_count": 29,
   "metadata": {},
   "outputs": [
    {
     "data": {
      "text/plain": [
       "19.5"
      ]
     },
     "execution_count": 29,
     "metadata": {},
     "output_type": "execute_result"
    }
   ],
   "source": [
    "#% falsos negativo\n",
    "False_positive = tabela_crostab.iloc[0,2]*100\n",
    "False_positive"
   ]
  },
  {
   "cell_type": "code",
   "execution_count": 35,
   "metadata": {},
   "outputs": [
    {
     "data": {
      "text/plain": [
       "28.5"
      ]
     },
     "execution_count": 35,
     "metadata": {},
     "output_type": "execute_result"
    }
   ],
   "source": [
    "acuracia = true_positive + true_negative\n",
    "acuracia"
   ]
  },
  {
   "cell_type": "code",
   "execution_count": 36,
   "metadata": {},
   "outputs": [
    {
     "data": {
      "text/plain": [
       "16.0"
      ]
     },
     "execution_count": 36,
     "metadata": {},
     "output_type": "execute_result"
    }
   ],
   "source": [
    "#% verdadeiros negativo\n",
    "true_neutral = tabela_crostab.iloc[1,1]*100\n",
    "true_neutral"
   ]
  },
  {
   "cell_type": "code",
   "execution_count": 37,
   "metadata": {},
   "outputs": [
    {
     "name": "stdout",
     "output_type": "stream",
     "text": [
      "0.0\n",
      "2.0\n"
     ]
    }
   ],
   "source": [
    "#% Falsos negativo\n",
    "False_neutral_n = tabela_crostab.iloc[1,0]*100\n",
    "print(False_neutral_n)\n",
    "\n",
    "False_neutral_p = tabela_crostab.iloc[1,2]*100\n",
    "print(False_neutral_p)"
   ]
  },
  {
   "cell_type": "markdown",
   "metadata": {},
   "source": [
    "___\n",
    "### Concluindo"
   ]
  },
  {
   "cell_type": "code",
   "execution_count": null,
   "metadata": {},
   "outputs": [],
   "source": []
  },
  {
   "cell_type": "code",
   "execution_count": null,
   "metadata": {},
   "outputs": [],
   "source": []
  },
  {
   "cell_type": "code",
   "execution_count": null,
   "metadata": {},
   "outputs": [],
   "source": []
  },
  {
   "cell_type": "markdown",
   "metadata": {},
   "source": [
    "___\n",
    "### Qualidade do Classificador a partir de novas separações das notícias entre Treinamento e Teste\n",
    "\n",
    "Caso for fazer esse item do Projeto"
   ]
  },
  {
   "cell_type": "code",
   "execution_count": null,
   "metadata": {},
   "outputs": [],
   "source": []
  },
  {
   "cell_type": "code",
   "execution_count": null,
   "metadata": {},
   "outputs": [],
   "source": []
  },
  {
   "cell_type": "code",
   "execution_count": null,
   "metadata": {},
   "outputs": [],
   "source": []
  },
  {
   "cell_type": "markdown",
   "metadata": {},
   "source": [
    "___\n",
    "## Aperfeiçoamento:\n",
    "\n",
    "Trabalhos que conseguirem pelo menos conceito B vão evoluir em conceito dependendo da quantidade de itens avançados:\n",
    "\n",
    "* IMPLEMENTOU outras limpezas e transformações que não afetem a qualidade da informação contida nas notícias. Ex: stemming, lemmatization, stopwords\n",
    "* CONSIDEROU mais de duas caterogias na variável Target e INCREMENTOU a quantidade de notícias, mantendo pelo menos 250 notícias por caterogia (OBRIGATÓRIO PARA TRIOS, sem contar como item avançado)\n",
    "* Para Target com duas categorias: CRIOU pelo menos quatro categorias intermediárias de relevância baseadas na probabilidade: ex.: muito relevante, relevante, neutro, irrelevante, muito irrelevante\n",
    "* EXPLICOU porquê não pode usar o próprio classificador para gerar mais amostras de treinamento\n",
    "* PROPÔS diferentes cenários para Naïve Bayes fora do contexto do projeto (pelo menos dois cenários, exceto aqueles já apresentados em sala pelos professores: por exemplo, filtro de spam)\n",
    "* SUGERIU e EXPLICOU melhorias reais com indicações concretas de como implementar (indicar como fazer e indicar material de pesquisa)\n",
    "* FEZ o item Qualidade do Classificador a partir de novas separações das Notícias entre Treinamento e Teste descrito no enunciado do projeto (OBRIGATÓRIO para conceitos A ou A+)"
   ]
  },
  {
   "cell_type": "markdown",
   "metadata": {},
   "source": [
    "___\n",
    "## Referências"
   ]
  },
  {
   "cell_type": "markdown",
   "metadata": {},
   "source": [
    "[Naive Bayes and Text Classification](https://arxiv.org/pdf/1410.5329.pdf)  **Mais completo**\n",
    "\n",
    "[A practical explanation of a Naive Bayes Classifier](https://monkeylearn.com/blog/practical-explanation-naive-bayes-classifier/) **Mais simples**"
   ]
  },
  {
   "cell_type": "code",
   "execution_count": null,
   "metadata": {},
   "outputs": [],
   "source": []
  }
 ],
 "metadata": {
  "kernelspec": {
   "display_name": "Python 3",
   "language": "python",
   "name": "python3"
  },
  "language_info": {
   "codemirror_mode": {
    "name": "ipython",
    "version": 3
   },
   "file_extension": ".py",
   "mimetype": "text/x-python",
   "name": "python",
   "nbconvert_exporter": "python",
   "pygments_lexer": "ipython3",
   "version": "3.8.8"
  }
 },
 "nbformat": 4,
 "nbformat_minor": 4
}
